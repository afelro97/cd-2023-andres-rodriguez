{
 "nbformat": 4,
 "nbformat_minor": 0,
 "metadata": {
  "colab": {
   "provenance": []
  },
  "kernelspec": {
   "name": "python3",
   "display_name": "Python 3"
  },
  "language_info": {
   "name": "python"
  }
 },
 "cells": [
  {
   "cell_type": "markdown",
   "metadata": {
    "id": "view-in-github"
   },
   "source": [
    "<a href=\"https://colab.research.google.com/github/aleja909/CD_202202_ALEJANDRA_GIRALDO/blob/main/Taller_6_AG.ipynb\" target=\"_parent\"><img src=\"https://colab.research.google.com/assets/colab-badge.svg\" alt=\"Open In Colab\"/></a>"
   ]
  },
  {
   "cell_type": "code",
   "execution_count": 1,
   "metadata": {
    "id": "_iyJfSx2kB5G"
   },
   "outputs": [],
   "source": [
    "import math \n",
    "\n",
    "def distancia(x,y):\n",
    "  return math.sqrt(x**2 + y**2)"
   ]
  },
  {
   "cell_type": "code",
   "source": [
    "cont = 0\n",
    "puntosLado = 10000\n",
    "paso = 1 / (puntosLado - 1)\n",
    "\n",
    "i = 0\n",
    "while i <=1:\n",
    "  j = 0\n",
    "  while j <=1:\n",
    "    if distancia(i,j) <= 1:\n",
    "      cont += 1\n",
    "    j+=paso\n",
    "  i+=paso\n",
    "  \n",
    "print(\"Puntos\", cont)\n",
    "print(\"Estimacion de pi:\",(cont * 4 / (puntosLado**2)))\n"
   ],
   "metadata": {
    "colab": {
     "base_uri": "https://localhost:8080/"
    },
    "id": "I4rCjEydkUJU",
    "outputId": "15b95c97-b7f7-4157-ab9c-d82952511b37"
   },
   "execution_count": 2,
   "outputs": [
    {
     "name": "stdout",
     "output_type": "stream",
     "text": [
      "Puntos 78534021\n",
      "Estimacion de pi: 3.14136084\n"
     ]
    }
   ]
  },
  {
   "cell_type": "code",
   "source": [
    "import random"
   ],
   "metadata": {
    "id": "06dIZ7ynw0KB"
   },
   "execution_count": 3,
   "outputs": []
  },
  {
   "cell_type": "code",
   "source": [
    "pAnd=100000\n",
    "cAnd=0\n",
    "for i in range(pAnd):\n",
    "  x=random.random()\n",
    "  y=random.random()\n",
    "  if (distancia(x,y)<=1):\n",
    "\n",
    "    cAnd+=1\n",
    "\n",
    "print(\"estimación de pi:\",(cAnd*4/pAnd**2))"
   ],
   "metadata": {
    "id": "TsBkuAHtoktz",
    "colab": {
     "base_uri": "https://localhost:8080/"
    },
    "outputId": "491899f9-27c5-4c1c-a852-c6403191ebbf"
   },
   "execution_count": 4,
   "outputs": [
    {
     "name": "stdout",
     "output_type": "stream",
     "text": [
      "estimación de pi: 3.13784e-05\n"
     ]
    }
   ]
  },
  {
   "cell_type": "code",
   "execution_count": null,
   "outputs": [],
   "source": [],
   "metadata": {
    "collapsed": false
   }
  }
 ]
}
