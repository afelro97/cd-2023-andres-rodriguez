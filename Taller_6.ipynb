{
  "nbformat": 4,
  "nbformat_minor": 0,
  "metadata": {
    "colab": {
      "provenance": []
    },
    "kernelspec": {
      "name": "python3",
      "display_name": "Python 3"
    },
    "language_info": {
      "name": "python"
    }
  },
  "cells": [
    {
      "cell_type": "code",
      "execution_count": null,
      "metadata": {
        "colab": {
          "base_uri": "https://localhost:8080/"
        },
        "id": "eC6tIYUPvzwU",
        "outputId": "78808d33-c450-462b-f056-999e6ed588b8"
      },
      "outputs": [
        {
          "output_type": "stream",
          "name": "stdout",
          "text": [
            "Número de pares de distancia: 795691\n"
          ]
        }
      ],
      "source": [
        "import pandas as pd\n",
        "from sklearn.metrics import pairwise_distances\n",
        "\n",
        "ruta = 'https://raw.githubusercontent.com/fmoreno4/cd-files/main/eventos_dengue_2020.csv'\n",
        "df = pd.read_csv(ruta)\n",
        "\n",
        "distancias = pairwise_distances(df[['latitud', 'longitud']])\n",
        "num_pares_distancia = int(len(df)*(len(df)-1)/2)\n",
        "\n",
        "print('Número de pares de distancia:', num_pares_distancia)\n"
      ]
    },
    {
      "cell_type": "code",
      "source": [
        "import pandas as pd\n",
        "import numpy as np\n",
        "\n",
        "ruta = 'https://raw.githubusercontent.com/fmoreno4/cd-files/main/eventos_dengue_2020.csv'\n",
        "df = pd.read_csv(ruta)\n",
        "\n",
        "distancias = np.sqrt((df['latitud'].diff() ** 2) + (df['longitud'].diff() ** 2))\n",
        "num_pares_distancia = int(len(df)*(len(df)-1)/2)\n",
        "\n",
        "print('Número de pares de distancia:', num_pares_distancia)\n"
      ],
      "metadata": {
        "colab": {
          "base_uri": "https://localhost:8080/"
        },
        "id": "nGT3t1zdzHZp",
        "outputId": "b2bf5fa9-4d8b-4b3c-e88e-14282839e08e"
      },
      "execution_count": null,
      "outputs": [
        {
          "output_type": "stream",
          "name": "stdout",
          "text": [
            "Número de pares de distancia: 795691\n"
          ]
        }
      ]
    },
    {
      "cell_type": "code",
      "source": [
        "import pandas as pd\n",
        "import numpy as np\n",
        "from geopy import distance\n",
        "\n",
        "ruta = 'https://raw.githubusercontent.com/fmoreno4/cd-files/main/eventos_dengue_2020.csv'\n",
        "df = pd.read_csv(ruta)\n",
        "\n",
        "num_pares_distancia = 0\n",
        "for i in range(len(df)):\n",
        "    for j in range(i+1, len(df)):\n",
        "        coords_1 = (df.loc[i, 'latitud'], df.loc[i, 'longitud'])\n",
        "        coords_2 = (df.loc[j, 'latitud'], df.loc[j, 'longitud'])\n",
        "        dist = distance.distance(coords_1, coords_2).m\n",
        "        if dist <= 100:\n",
        "            num_pares_distancia += 1\n",
        "\n",
        "print('Número de pares de distancia de 100 metros o menos:', num_pares_distancia)\n"
      ],
      "metadata": {
        "colab": {
          "base_uri": "https://localhost:8080/"
        },
        "id": "cO0pK5Yx1Es-",
        "outputId": "74a17507-c35b-4702-a82d-b27c14c0689c"
      },
      "execution_count": null,
      "outputs": [
        {
          "output_type": "stream",
          "name": "stdout",
          "text": [
            "Número de pares de distancia de 100 metros o menos: 3979\n"
          ]
        }
      ]
    },
    {
      "cell_type": "code",
      "source": [
        "import pandas as pd\n",
        "import numpy as np\n",
        "from geopy import distance\n",
        "\n",
        "ruta = 'https://raw.githubusercontent.com/fmoreno4/cd-files/main/eventos_dengue_2020.csv'\n",
        "df = pd.read_csv(ruta)\n",
        "\n",
        "num_pares_distancia = 0\n",
        "for i in range(len(df)):\n",
        "    for j in range(i+1, len(df)):\n",
        "        if j > i:\n",
        "            coords_1 = (df.loc[i, 'latitud'], df.loc[i, 'longitud'])\n",
        "            coords_2 = (df.loc[j, 'latitud'], df.loc[j, 'longitud'])\n",
        "            dist = distance.distance(coords_1, coords_2).m\n",
        "            if dist <= 100:\n",
        "                num_pares_distancia += 1\n",
        "\n",
        "print('Número de pares de distancia de 100 metros o menos:', num_pares_distancia)\n"
      ],
      "metadata": {
        "colab": {
          "base_uri": "https://localhost:8080/"
        },
        "id": "OHdEXvdn2BAb",
        "outputId": "86a7d8b0-b4c9-4f55-cbaf-307a879b29a3"
      },
      "execution_count": null,
      "outputs": [
        {
          "output_type": "stream",
          "name": "stdout",
          "text": [
            "Número de pares de distancia de 100 metros o menos: 3979\n"
          ]
        }
      ]
    },
    {
      "cell_type": "code",
      "source": [
        "import pandas as pd\n",
        "import numpy as np\n",
        "from geopy import distance\n",
        "\n",
        "ruta = 'https://raw.githubusercontent.com/fmoreno4/cd-files/main/eventos_dengue_2020.csv'\n",
        "df = pd.read_csv(ruta)\n",
        "\n",
        "# convertir el dataframe a una lista de puntos\n",
        "puntos = df[['latitud', 'longitud']].values.tolist()\n",
        "\n",
        "num_pares_distancia = 0\n",
        "for i in range(len(puntos)):\n",
        "    for j in range(i+1, len(puntos)):\n",
        "        coords_1 = puntos[i]\n",
        "        coords_2 = puntos[j]\n",
        "        dist = distance.distance(coords_1, coords_2).m\n",
        "        if dist <= 100:\n",
        "            num_pares_distancia += 1\n",
        "\n",
        "print('Número de pares de distancia de 100 metros o menos:', num_pares_distancia)\n"
      ],
      "metadata": {
        "colab": {
          "base_uri": "https://localhost:8080/"
        },
        "id": "x9DjFCMU3UXU",
        "outputId": "48c29ab0-4aec-452f-eac7-575baec4eaa3"
      },
      "execution_count": null,
      "outputs": [
        {
          "output_type": "stream",
          "name": "stdout",
          "text": [
            "Número de pares de distancia de 100 metros o menos: 3979\n"
          ]
        }
      ]
    }
  ]
}